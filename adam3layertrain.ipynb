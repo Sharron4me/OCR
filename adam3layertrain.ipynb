{
 "cells": [
  {
   "cell_type": "code",
   "execution_count": 1,
   "metadata": {
    "_cell_guid": "b1076dfc-b9ad-4769-8c92-a6c4dae69d19",
    "_uuid": "8f2839f25d086af736a60e9eeb907d3b93b6e0e5",
    "execution": {
     "iopub.execute_input": "2021-11-22T07:05:00.062071Z",
     "iopub.status.busy": "2021-11-22T07:05:00.061682Z",
     "iopub.status.idle": "2021-11-22T07:05:05.19942Z",
     "shell.execute_reply": "2021-11-22T07:05:05.198643Z",
     "shell.execute_reply.started": "2021-11-22T07:05:00.061983Z"
    }
   },
   "outputs": [],
   "source": [
    "import numpy as np\n",
    "import pandas as pd\n",
    "\n",
    "import cv2\n",
    "import matplotlib.pyplot as plt\n",
    "\n",
    "from sklearn.model_selection import train_test_split\n",
    "\n",
    "import tensorflow as tf\n",
    "\n",
    "from keras.models import Sequential, load_model\n",
    "from keras.callbacks import EarlyStopping, ModelCheckpoint\n",
    "from keras import layers\n",
    "from keras.layers import *\n",
    "from keras.utils import np_utils\n",
    "\n",
    "from tqdm import tqdm"
   ]
  },
  {
   "cell_type": "code",
   "execution_count": 2,
   "metadata": {
    "execution": {
     "iopub.execute_input": "2021-11-22T07:06:01.60685Z",
     "iopub.status.busy": "2021-11-22T07:06:01.606472Z"
    }
   },
   "outputs": [],
   "source": [
    "X_train = np.array(pd.read_csv('emnist-byclass-train.csv', header=None).loc[:, 1:]) / 255.0\n",
    "y_train = np.array(pd.read_csv('emnist-byclass-train.csv', header=None).loc[:, 0])\n",
    "\n",
    "X_test = np.array(pd.read_csv('emnist-byclass-test.csv', header=None).loc[:, 1:]) / 255.0\n",
    "y_test = np.array(pd.read_csv('emnist-byclass-test.csv', header=None).loc[:, 0])"
   ]
  },
  {
   "cell_type": "code",
   "execution_count": 3,
   "metadata": {
    "execution": {
     "iopub.execute_input": "2021-11-22T06:13:44.374694Z",
     "iopub.status.busy": "2021-11-22T06:13:44.374323Z",
     "iopub.status.idle": "2021-11-22T06:13:44.390548Z",
     "shell.execute_reply": "2021-11-22T06:13:44.389262Z",
     "shell.execute_reply.started": "2021-11-22T06:13:44.374661Z"
    }
   },
   "outputs": [
    {
     "name": "stdout",
     "output_type": "stream",
     "text": [
      "(697932, 784) (697932,) (116323, 784) (116323,)\n"
     ]
    }
   ],
   "source": [
    "print(X_train.shape, y_train.shape, X_test.shape, y_test.shape)"
   ]
  },
  {
   "cell_type": "code",
   "execution_count": 4,
   "metadata": {
    "execution": {
     "iopub.execute_input": "2021-11-22T06:06:00.485025Z",
     "iopub.status.busy": "2021-11-22T06:06:00.484693Z",
     "iopub.status.idle": "2021-11-22T06:06:00.491542Z",
     "shell.execute_reply": "2021-11-22T06:06:00.490563Z",
     "shell.execute_reply.started": "2021-11-22T06:06:00.484993Z"
    }
   },
   "outputs": [],
   "source": [
    "X_train = X_train.reshape(X_train.shape[0], 28, 28)\n",
    "X_test = X_test.reshape(X_test.shape[0], 28, 28)"
   ]
  },
  {
   "cell_type": "code",
   "execution_count": 5,
   "metadata": {
    "execution": {
     "iopub.execute_input": "2021-11-22T06:06:09.972416Z",
     "iopub.status.busy": "2021-11-22T06:06:09.972091Z",
     "iopub.status.idle": "2021-11-22T06:06:09.977807Z",
     "shell.execute_reply": "2021-11-22T06:06:09.976688Z",
     "shell.execute_reply.started": "2021-11-22T06:06:09.972384Z"
    }
   },
   "outputs": [
    {
     "name": "stdout",
     "output_type": "stream",
     "text": [
      "(697932, 28, 28) (697932,) (116323, 28, 28) (116323,)\n"
     ]
    }
   ],
   "source": [
    "print(X_train.shape, y_train.shape, X_test.shape, y_test.shape)"
   ]
  },
  {
   "cell_type": "code",
   "execution_count": 6,
   "metadata": {
    "execution": {
     "iopub.execute_input": "2021-11-21T16:17:14.43964Z",
     "iopub.status.busy": "2021-11-21T16:17:14.439351Z",
     "iopub.status.idle": "2021-11-21T16:17:15.292485Z",
     "shell.execute_reply": "2021-11-21T16:17:15.291617Z",
     "shell.execute_reply.started": "2021-11-21T16:17:14.439608Z"
    }
   },
   "outputs": [],
   "source": [
    "k = len(X_train)\n",
    "for t in range(k):\n",
    "    X_train[t]=np.transpose(X_train[t])\n",
    "\n",
    "k = len(X_test)\n",
    "for t in range(k):\n",
    "    X_test[t]=np.transpose(X_test[t])"
   ]
  },
  {
   "cell_type": "code",
   "execution_count": 7,
   "metadata": {
    "execution": {
     "iopub.execute_input": "2021-11-21T16:17:15.294011Z",
     "iopub.status.busy": "2021-11-21T16:17:15.293667Z",
     "iopub.status.idle": "2021-11-21T16:17:15.299106Z",
     "shell.execute_reply": "2021-11-21T16:17:15.298111Z",
     "shell.execute_reply.started": "2021-11-21T16:17:15.293982Z"
    }
   },
   "outputs": [],
   "source": [
    "X_train_flat = X_train.reshape(X_train.shape[0], 784,1)\n",
    "X_test_flat = X_test.reshape(X_test.shape[0], 784,1)"
   ]
  },
  {
   "cell_type": "code",
   "execution_count": 10,
   "metadata": {
    "execution": {
     "iopub.execute_input": "2021-11-21T16:17:15.301403Z",
     "iopub.status.busy": "2021-11-21T16:17:15.300758Z",
     "iopub.status.idle": "2021-11-21T16:17:16.742119Z",
     "shell.execute_reply": "2021-11-21T16:17:16.741326Z",
     "shell.execute_reply.started": "2021-11-21T16:17:15.301357Z"
    }
   },
   "outputs": [
    {
     "name": "stderr",
     "output_type": "stream",
     "text": [
      "/Users/vasudhanvarma/miniforge3/lib/python3.9/site-packages/keras/optimizer_v2/optimizer_v2.py:355: UserWarning: The `lr` argument is deprecated, use `learning_rate` instead.\n",
      "  warnings.warn(\n"
     ]
    }
   ],
   "source": [
    "from keras.models import Sequential\n",
    "from keras import optimizers\n",
    "from keras.layers import Convolution2D, MaxPooling2D, Dropout, Flatten, Dense, Reshape, LSTM\n",
    "from keras import backend as K\n",
    "from keras.constraints import maxnorm\n",
    "def resh(ipar):\n",
    "    opar = []\n",
    "    for image in ipar:\n",
    "        opar.append(image.reshape(-1))\n",
    "    return np.asarray(opar)\n",
    "\n",
    "from keras.utils import np_utils\n",
    "\n",
    "train_images = X_train_flat.astype('float32')\n",
    "test_images = X_test_flat.astype('float32')\n",
    "\n",
    "train_images = resh(train_images)\n",
    "test_images = resh(test_images)\n",
    "\n",
    "\n",
    "train_labels = np_utils.to_categorical(y_train, 62)\n",
    "test_labels = np_utils.to_categorical(y_test, 62)\n",
    "\n",
    "K.set_learning_phase(1)\n",
    "model = Sequential()\n",
    "model.add(Reshape((28,28,1), input_shape=(784,)))\n",
    "\n",
    "model.add(Convolution2D(32, (5,5), input_shape=(28,28,1), activation='relu',padding='same', kernel_constraint=maxnorm(3)))\n",
    "model.add(Convolution2D(32, (5,5),activation='relu'))\n",
    "model.add(MaxPooling2D(pool_size=(2,2)))\n",
    "model.add(Flatten())\n",
    "\n",
    "model.add(Dense(1024, activation='relu', kernel_constraint=maxnorm(3)))\n",
    "model.add(Dense(1024, activation='relu', kernel_constraint=maxnorm(3)))\n",
    "model.add(Dense(512, activation='relu',kernel_constraint=maxnorm(3)))\n",
    "model.add(Dropout(0.5))\n",
    "model.add(Dense(62, activation='softmax'))\n",
    "\n",
    "opt = tf.keras.optimizers.Adam(lr=0.001, beta_1=0.9, beta_2=0.999, epsilon=1e-8)\n",
    "model.compile(loss='categorical_crossentropy', optimizer=opt, metrics=['accuracy'])"
   ]
  },
  {
   "cell_type": "code",
   "execution_count": 11,
   "metadata": {
    "execution": {
     "iopub.execute_input": "2021-11-21T16:17:16.743632Z",
     "iopub.status.busy": "2021-11-21T16:17:16.743288Z",
     "iopub.status.idle": "2021-11-21T16:18:28.596614Z",
     "shell.execute_reply": "2021-11-21T16:18:28.595676Z",
     "shell.execute_reply.started": "2021-11-21T16:17:16.743598Z"
    }
   },
   "outputs": [
    {
     "name": "stdout",
     "output_type": "stream",
     "text": [
      "Model: \"sequential_2\"\n",
      "_________________________________________________________________\n",
      "Layer (type)                 Output Shape              Param #   \n",
      "=================================================================\n",
      "reshape_4 (Reshape)          (None, 28, 28, 1)         0         \n",
      "_________________________________________________________________\n",
      "conv2d_4 (Conv2D)            (None, 28, 28, 32)        832       \n",
      "_________________________________________________________________\n",
      "conv2d_5 (Conv2D)            (None, 24, 24, 32)        25632     \n",
      "_________________________________________________________________\n",
      "max_pooling2d_2 (MaxPooling2 (None, 12, 12, 32)        0         \n",
      "_________________________________________________________________\n",
      "flatten_2 (Flatten)          (None, 4608)              0         \n",
      "_________________________________________________________________\n",
      "dense (Dense)                (None, 1024)              4719616   \n",
      "_________________________________________________________________\n",
      "dense_1 (Dense)              (None, 1024)              1049600   \n",
      "_________________________________________________________________\n",
      "dense_2 (Dense)              (None, 512)               524800    \n",
      "_________________________________________________________________\n",
      "dropout (Dropout)            (None, 512)               0         \n",
      "_________________________________________________________________\n",
      "dense_3 (Dense)              (None, 62)                31806     \n",
      "=================================================================\n",
      "Total params: 6,352,286\n",
      "Trainable params: 6,352,286\n",
      "Non-trainable params: 0\n",
      "_________________________________________________________________\n",
      "None\n"
     ]
    },
    {
     "name": "stderr",
     "output_type": "stream",
     "text": [
      "2021-11-23 00:11:12.918943: I tensorflow/compiler/mlir/mlir_graph_optimization_pass.cc:185] None of the MLIR Optimization Passes are enabled (registered 2)\n",
      "2021-11-23 00:11:12.925873: W tensorflow/core/platform/profile_utils/cpu_utils.cc:128] Failed to get CPU frequency: 0 Hz\n"
     ]
    },
    {
     "name": "stdout",
     "output_type": "stream",
     "text": [
      "Epoch 1/5\n"
     ]
    },
    {
     "name": "stderr",
     "output_type": "stream",
     "text": [
      "2021-11-23 00:11:13.272893: I tensorflow/core/grappler/optimizers/custom_graph_optimizer_registry.cc:112] Plugin optimizer for device_type GPU is enabled.\n"
     ]
    },
    {
     "name": "stdout",
     "output_type": "stream",
     "text": [
      "5453/5453 [==============================] - ETA: 0s - loss: 0.4917 - accuracy: 0.8333"
     ]
    },
    {
     "name": "stderr",
     "output_type": "stream",
     "text": [
      "2021-11-23 00:13:55.327352: I tensorflow/core/grappler/optimizers/custom_graph_optimizer_registry.cc:112] Plugin optimizer for device_type GPU is enabled.\n"
     ]
    },
    {
     "name": "stdout",
     "output_type": "stream",
     "text": [
      "5453/5453 [==============================] - 173s 32ms/step - loss: 0.4917 - accuracy: 0.8333 - val_loss: 0.3984 - val_accuracy: 0.8571\n",
      "Epoch 2/5\n",
      "5453/5453 [==============================] - 197s 36ms/step - loss: 0.3951 - accuracy: 0.8579 - val_loss: 0.3813 - val_accuracy: 0.8606\n",
      "Epoch 3/5\n",
      "5453/5453 [==============================] - 231s 42ms/step - loss: 0.3777 - accuracy: 0.8619 - val_loss: 0.3789 - val_accuracy: 0.8604\n",
      "Epoch 4/5\n",
      "5453/5453 [==============================] - 228s 42ms/step - loss: 0.3696 - accuracy: 0.8642 - val_loss: 0.3743 - val_accuracy: 0.8633\n",
      "Epoch 5/5\n",
      "5453/5453 [==============================] - 245s 45ms/step - loss: 0.3638 - accuracy: 0.8660 - val_loss: 0.3702 - val_accuracy: 0.8655\n"
     ]
    }
   ],
   "source": [
    "print(model.summary())\n",
    "history = model.fit(train_images,train_labels,validation_data=(test_images, test_labels), batch_size=128, epochs=5)"
   ]
  },
  {
   "cell_type": "code",
   "execution_count": 12,
   "metadata": {
    "execution": {
     "iopub.execute_input": "2021-11-21T16:18:28.598754Z",
     "iopub.status.busy": "2021-11-21T16:18:28.598385Z",
     "iopub.status.idle": "2021-11-21T16:18:29.55883Z",
     "shell.execute_reply": "2021-11-21T16:18:29.557973Z",
     "shell.execute_reply.started": "2021-11-21T16:18:28.598717Z"
    }
   },
   "outputs": [
    {
     "name": "stdout",
     "output_type": "stream",
     "text": [
      "Accuracy: 86.55%\n"
     ]
    }
   ],
   "source": [
    "scores = model.evaluate(test_images,test_labels, verbose = 0)\n",
    "print(\"Accuracy: %.2f%%\"%(scores[1]*100))"
   ]
  },
  {
   "cell_type": "code",
   "execution_count": 13,
   "metadata": {
    "execution": {
     "iopub.execute_input": "2021-11-21T16:18:29.562245Z",
     "iopub.status.busy": "2021-11-21T16:18:29.561987Z",
     "iopub.status.idle": "2021-11-21T16:18:29.921908Z",
     "shell.execute_reply": "2021-11-21T16:18:29.921068Z",
     "shell.execute_reply.started": "2021-11-21T16:18:29.562219Z"
    }
   },
   "outputs": [
    {
     "name": "stdout",
     "output_type": "stream",
     "text": [
      "dict_keys(['loss', 'accuracy', 'val_loss', 'val_accuracy'])\n"
     ]
    },
    {
     "data": {
      "image/png": "[encoded data removed]",
      "text/plain": [
       "<Figure size 432x288 with 1 Axes>"
      ]
     },
     "metadata": {
      "needs_background": "light"
     },
     "output_type": "display_data"
    },
    {
     "data": {
      "image/png": "[encoded data removed]",
      "text/plain": [
       "<Figure size 432x288 with 1 Axes>"
      ]
     },
     "metadata": {
      "needs_background": "light"
     },
     "output_type": "display_data"
    }
   ],
   "source": [
    "print(history.history.keys())\n",
    "plt.plot(history.history['accuracy'])\n",
    "plt.plot(history.history['val_accuracy'])\n",
    "plt.title('Model Accuracy')\n",
    "plt.ylabel('Accuracy')\n",
    "plt.xlabel('Epoch')\n",
    "plt.legend(['Train', 'Test'], loc='upper left')\n",
    "plt.grid()\n",
    "plt.show()\n",
    "plt.plot(history.history['loss'])\n",
    "plt.plot(history.history['val_loss'])\n",
    "plt.title('Model loss')\n",
    "plt.ylabel('Loss')\n",
    "plt.xlabel('Epoch')\n",
    "plt.legend(['Train', 'Test'], loc='upper left')\n",
    "plt.grid()\n",
    "plt.show()"
   ]
  },
  {
   "cell_type": "code",
   "execution_count": 14,
   "metadata": {},
   "outputs": [],
   "source": [
    "from keras.models import load_model\n",
    "from keras.models import model_from_json\n",
    "\n",
    "model_json = model.to_json()\n",
    "with open(\"modeladamver3.json\", \"w\") as json_file:\n",
    "    json_file.write(model_json)\n",
    "    \n",
    "model.save_weights(\"modeladamver3.h5\")"
   ]
  },
  {
   "cell_type": "code",
   "execution_count": null,
   "metadata": {},
   "outputs": [],
   "source": []
  }
 ],
 "metadata": {
  "kernelspec": {
   "display_name": "Python 3 (ipykernel)",
   "language": "python",
   "name": "python3"
  },
  "language_info": {
   "codemirror_mode": {
    "name": "ipython",
    "version": 3
   },
   "file_extension": ".py",
   "mimetype": "text/x-python",
   "name": "python",
   "nbconvert_exporter": "python",
   "pygments_lexer": "ipython3",
   "version": "3.9.7"
  }
 },
 "nbformat": 4,
 "nbformat_minor": 4
}
