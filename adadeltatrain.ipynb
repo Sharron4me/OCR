{
 "cells": [
  {
   "cell_type": "code",
   "execution_count": 1,
   "metadata": {
    "_cell_guid": "b1076dfc-b9ad-4769-8c92-a6c4dae69d19",
    "_uuid": "8f2839f25d086af736a60e9eeb907d3b93b6e0e5",
    "execution": {
     "iopub.execute_input": "2021-11-22T07:05:00.062071Z",
     "iopub.status.busy": "2021-11-22T07:05:00.061682Z",
     "iopub.status.idle": "2021-11-22T07:05:05.19942Z",
     "shell.execute_reply": "2021-11-22T07:05:05.198643Z",
     "shell.execute_reply.started": "2021-11-22T07:05:00.061983Z"
    }
   },
   "outputs": [],
   "source": [
    "import numpy as np\n",
    "import pandas as pd\n",
    "\n",
    "import cv2\n",
    "import matplotlib.pyplot as plt\n",
    "\n",
    "from sklearn.model_selection import train_test_split\n",
    "\n",
    "import tensorflow as tf\n",
    "\n",
    "from keras.models import Sequential, load_model\n",
    "from keras.callbacks import EarlyStopping, ModelCheckpoint\n",
    "from keras import layers\n",
    "from keras.layers import *\n",
    "from keras.utils import np_utils\n",
    "\n",
    "from tqdm import tqdm"
   ]
  },
  {
   "cell_type": "code",
   "execution_count": 3,
   "metadata": {
    "execution": {
     "iopub.execute_input": "2021-11-22T07:06:01.60685Z",
     "iopub.status.busy": "2021-11-22T07:06:01.606472Z"
    }
   },
   "outputs": [],
   "source": [
    "#Getting the data from csv file and separating labels from it then applying normalization.\n",
    "\n",
    "X_train = np.array(pd.read_csv('Datasets/emnist-byclass-train.csv', header=None).loc[:, 1:]) / 255.0\n",
    "y_train = np.array(pd.read_csv('Datasets/emnist-byclass-train.csv', header=None).loc[:, 0])\n",
    "\n",
    "X_test = np.array(pd.read_csv('Datasets/emnist-byclass-test.csv', header=None).loc[:, 1:]) / 255.0\n",
    "y_test = np.array(pd.read_csv('Datasets/emnist-byclass-test.csv', header=None).loc[:, 0])"
   ]
  },
  {
   "cell_type": "code",
   "execution_count": 4,
   "metadata": {
    "execution": {
     "iopub.execute_input": "2021-11-22T06:13:44.374694Z",
     "iopub.status.busy": "2021-11-22T06:13:44.374323Z",
     "iopub.status.idle": "2021-11-22T06:13:44.390548Z",
     "shell.execute_reply": "2021-11-22T06:13:44.389262Z",
     "shell.execute_reply.started": "2021-11-22T06:13:44.374661Z"
    }
   },
   "outputs": [
    {
     "name": "stdout",
     "output_type": "stream",
     "text": [
      "(697932, 784) (697932,) (116323, 784) (116323,)\n"
     ]
    }
   ],
   "source": [
    "print(X_train.shape, y_train.shape, X_test.shape, y_test.shape)"
   ]
  },
  {
   "cell_type": "code",
   "execution_count": 16,
   "metadata": {
    "execution": {
     "iopub.execute_input": "2021-11-22T06:06:00.485025Z",
     "iopub.status.busy": "2021-11-22T06:06:00.484693Z",
     "iopub.status.idle": "2021-11-22T06:06:00.491542Z",
     "shell.execute_reply": "2021-11-22T06:06:00.490563Z",
     "shell.execute_reply.started": "2021-11-22T06:06:00.484993Z"
    }
   },
   "outputs": [],
   "source": [
    "#Making every image to 28*28 pixels\n",
    "X_train = X_train.reshape(X_train.shape[0], 28, 28)\n",
    "X_test = X_test.reshape(X_test.shape[0], 28, 28)"
   ]
  },
  {
   "cell_type": "code",
   "execution_count": 17,
   "metadata": {},
   "outputs": [
    {
     "name": "stdout",
     "output_type": "stream",
     "text": [
      "36\n"
     ]
    },
    {
     "data": {
      "image/png": "[encoded data removed]",
      "text/plain": [
       "<Figure size 432x288 with 1 Axes>"
      ]
     },
     "metadata": {
      "needs_background": "light"
     },
     "output_type": "display_data"
    }
   ],
   "source": [
    "plt.imshow(X_train[1])\n",
    "print(y_train[1])"
   ]
  },
  {
   "cell_type": "code",
   "execution_count": 11,
   "metadata": {
    "execution": {
     "iopub.execute_input": "2021-11-22T06:06:09.972416Z",
     "iopub.status.busy": "2021-11-22T06:06:09.972091Z",
     "iopub.status.idle": "2021-11-22T06:06:09.977807Z",
     "shell.execute_reply": "2021-11-22T06:06:09.976688Z",
     "shell.execute_reply.started": "2021-11-22T06:06:09.972384Z"
    }
   },
   "outputs": [
    {
     "name": "stdout",
     "output_type": "stream",
     "text": [
      "(697932, 28, 28) (697932,) (116323, 28, 28) (116323,)\n"
     ]
    }
   ],
   "source": [
    "print(X_train.shape, y_train.shape, X_test.shape, y_test.shape)"
   ]
  },
  {
   "cell_type": "code",
   "execution_count": 18,
   "metadata": {
    "execution": {
     "iopub.execute_input": "2021-11-21T16:17:14.43964Z",
     "iopub.status.busy": "2021-11-21T16:17:14.439351Z",
     "iopub.status.idle": "2021-11-21T16:17:15.292485Z",
     "shell.execute_reply": "2021-11-21T16:17:15.291617Z",
     "shell.execute_reply.started": "2021-11-21T16:17:14.439608Z"
    }
   },
   "outputs": [],
   "source": [
    "#Rotating the data\n",
    "\n",
    "k = len(X_train)\n",
    "for t in range(k):\n",
    "    X_train[t]=np.transpose(X_train[t])\n",
    "\n",
    "k = len(X_test)\n",
    "for t in range(k):\n",
    "    X_test[t]=np.transpose(X_test[t])"
   ]
  },
  {
   "cell_type": "code",
   "execution_count": 19,
   "metadata": {},
   "outputs": [
    {
     "name": "stdout",
     "output_type": "stream",
     "text": [
      "36\n"
     ]
    },
    {
     "data": {
      "image/png": "[encoded data removed]",
      "text/plain": [
       "<Figure size 432x288 with 1 Axes>"
      ]
     },
     "metadata": {
      "needs_background": "light"
     },
     "output_type": "display_data"
    }
   ],
   "source": [
    "plt.imshow(X_train[1])\n",
    "print(y_train[1])"
   ]
  },
  {
   "cell_type": "code",
   "execution_count": 20,
   "metadata": {
    "execution": {
     "iopub.execute_input": "2021-11-21T16:17:15.294011Z",
     "iopub.status.busy": "2021-11-21T16:17:15.293667Z",
     "iopub.status.idle": "2021-11-21T16:17:15.299106Z",
     "shell.execute_reply": "2021-11-21T16:17:15.298111Z",
     "shell.execute_reply.started": "2021-11-21T16:17:15.293982Z"
    }
   },
   "outputs": [],
   "source": [
    "#flattening the data to send it to first layer of NN\n",
    "X_train_flat = X_train.reshape(X_train.shape[0], 784,1)\n",
    "X_test_flat = X_test.reshape(X_test.shape[0], 784,1)"
   ]
  },
  {
   "cell_type": "code",
   "execution_count": 9,
   "metadata": {
    "execution": {
     "iopub.execute_input": "2021-11-21T16:17:15.301403Z",
     "iopub.status.busy": "2021-11-21T16:17:15.300758Z",
     "iopub.status.idle": "2021-11-21T16:17:16.742119Z",
     "shell.execute_reply": "2021-11-21T16:17:16.741326Z",
     "shell.execute_reply.started": "2021-11-21T16:17:15.301357Z"
    }
   },
   "outputs": [],
   "source": [
    "from keras.models import Sequential\n",
    "from keras import optimizers\n",
    "from keras.layers import Convolution2D, MaxPooling2D, Dropout, Flatten, Dense, Reshape, LSTM\n",
    "from keras import backend as K\n",
    "from keras.constraints import maxnorm\n",
    "def resh(ipar):\n",
    "    opar = []\n",
    "    for image in ipar:\n",
    "        opar.append(image.reshape(-1))\n",
    "    return np.asarray(opar)\n",
    "\n",
    "from keras.utils import np_utils\n",
    "\n",
    "train_images = X_train_flat.astype('float32')\n",
    "test_images = X_test_flat.astype('float32')\n",
    "\n",
    "train_images = resh(train_images)\n",
    "test_images = resh(test_images)\n",
    "\n",
    "\n",
    "train_labels = np_utils.to_categorical(y_train, 62)\n",
    "test_labels = np_utils.to_categorical(y_test, 62)\n",
    "\n",
    "K.set_learning_phase(1)\n",
    "model = Sequential()\n",
    "model.add(Reshape((28,28,1), input_shape=(784,)))\n",
    "\n",
    "model.add(Convolution2D(32, (5,5),activation='relu'))\n",
    "model.add(MaxPooling2D(pool_size=(2,2)))\n",
    "model.add(Flatten())\n",
    "\n",
    "model.add(Dense(512, activation='relu',kernel_constraint=maxnorm(3)))\n",
    "model.add(Dropout(0.5))\n",
    "model.add(Dense(62, activation='softmax'))\n",
    "\n",
    "opt = tf.keras.optimizers.Adadelta()\n",
    "model.compile(loss='categorical_crossentropy', optimizer=opt, metrics=['accuracy'])"
   ]
  },
  {
   "cell_type": "code",
   "execution_count": 10,
   "metadata": {
    "execution": {
     "iopub.execute_input": "2021-11-21T16:17:16.743632Z",
     "iopub.status.busy": "2021-11-21T16:17:16.743288Z",
     "iopub.status.idle": "2021-11-21T16:18:28.596614Z",
     "shell.execute_reply": "2021-11-21T16:18:28.595676Z",
     "shell.execute_reply.started": "2021-11-21T16:17:16.743598Z"
    }
   },
   "outputs": [
    {
     "name": "stdout",
     "output_type": "stream",
     "text": [
      "Model: \"sequential_1\"\n",
      "_________________________________________________________________\n",
      "Layer (type)                 Output Shape              Param #   \n",
      "=================================================================\n",
      "reshape_1 (Reshape)          (None, 28, 28, 1)         0         \n",
      "_________________________________________________________________\n",
      "conv2d_1 (Conv2D)            (None, 24, 24, 32)        832       \n",
      "_________________________________________________________________\n",
      "max_pooling2d_1 (MaxPooling2 (None, 12, 12, 32)        0         \n",
      "_________________________________________________________________\n",
      "flatten_1 (Flatten)          (None, 4608)              0         \n",
      "_________________________________________________________________\n",
      "dense_2 (Dense)              (None, 512)               2359808   \n",
      "_________________________________________________________________\n",
      "dropout_1 (Dropout)          (None, 512)               0         \n",
      "_________________________________________________________________\n",
      "dense_3 (Dense)              (None, 62)                31806     \n",
      "=================================================================\n",
      "Total params: 2,392,446\n",
      "Trainable params: 2,392,446\n",
      "Non-trainable params: 0\n",
      "_________________________________________________________________\n",
      "None\n"
     ]
    },
    {
     "name": "stderr",
     "output_type": "stream",
     "text": [
      "2021-11-22 22:46:37.484163: I tensorflow/compiler/mlir/mlir_graph_optimization_pass.cc:185] None of the MLIR Optimization Passes are enabled (registered 2)\n",
      "2021-11-22 22:46:37.506849: W tensorflow/core/platform/profile_utils/cpu_utils.cc:128] Failed to get CPU frequency: 0 Hz\n"
     ]
    },
    {
     "name": "stdout",
     "output_type": "stream",
     "text": [
      "Epoch 1/20\n"
     ]
    },
    {
     "name": "stderr",
     "output_type": "stream",
     "text": [
      "2021-11-22 22:46:38.041204: I tensorflow/core/grappler/optimizers/custom_graph_optimizer_registry.cc:112] Plugin optimizer for device_type GPU is enabled.\n"
     ]
    },
    {
     "name": "stdout",
     "output_type": "stream",
     "text": [
      "5453/5453 [==============================] - ETA: 0s - loss: 3.5284 - accuracy: 0.2157"
     ]
    },
    {
     "name": "stderr",
     "output_type": "stream",
     "text": [
      "2021-11-22 22:47:51.092756: I tensorflow/core/grappler/optimizers/custom_graph_optimizer_registry.cc:112] Plugin optimizer for device_type GPU is enabled.\n"
     ]
    },
    {
     "name": "stdout",
     "output_type": "stream",
     "text": [
      "5453/5453 [==============================] - 80s 14ms/step - loss: 3.5284 - accuracy: 0.2157 - val_loss: 2.8604 - val_accuracy: 0.4275\n",
      "Epoch 2/20\n",
      "5453/5453 [==============================] - 80s 15ms/step - loss: 2.5795 - accuracy: 0.4162 - val_loss: 2.1075 - val_accuracy: 0.5210\n",
      "Epoch 3/20\n",
      "5453/5453 [==============================] - 82s 15ms/step - loss: 2.0885 - accuracy: 0.4999 - val_loss: 1.7558 - val_accuracy: 0.5779\n",
      "Epoch 4/20\n",
      "5453/5453 [==============================] - 81s 15ms/step - loss: 1.8413 - accuracy: 0.5427 - val_loss: 1.5612 - val_accuracy: 0.6104\n",
      "Epoch 5/20\n",
      "5453/5453 [==============================] - 89s 16ms/step - loss: 1.6905 - accuracy: 0.5693 - val_loss: 1.4335 - val_accuracy: 0.6306\n",
      "Epoch 6/20\n",
      "5453/5453 [==============================] - 125s 23ms/step - loss: 1.5842 - accuracy: 0.5879 - val_loss: 1.3421 - val_accuracy: 0.6457\n",
      "Epoch 7/20\n",
      "5453/5453 [==============================] - 93s 17ms/step - loss: 1.5028 - accuracy: 0.6036 - val_loss: 1.2707 - val_accuracy: 0.6586\n",
      "Epoch 8/20\n",
      "5453/5453 [==============================] - 81s 15ms/step - loss: 1.4417 - accuracy: 0.6147 - val_loss: 1.2148 - val_accuracy: 0.6703\n",
      "Epoch 9/20\n",
      "5453/5453 [==============================] - 83s 15ms/step - loss: 1.3881 - accuracy: 0.6252 - val_loss: 1.1674 - val_accuracy: 0.6810\n",
      "Epoch 10/20\n",
      "5453/5453 [==============================] - 192s 35ms/step - loss: 1.3443 - accuracy: 0.6344 - val_loss: 1.1272 - val_accuracy: 0.6893\n",
      "Epoch 11/20\n",
      "5453/5453 [==============================] - 242s 44ms/step - loss: 1.3040 - accuracy: 0.6428 - val_loss: 1.0929 - val_accuracy: 0.6967\n",
      "Epoch 12/20\n",
      "5453/5453 [==============================] - 267s 49ms/step - loss: 1.2720 - accuracy: 0.6494 - val_loss: 1.0633 - val_accuracy: 0.7031\n",
      "Epoch 13/20\n",
      "5453/5453 [==============================] - 240s 44ms/step - loss: 1.2409 - accuracy: 0.6556 - val_loss: 1.0364 - val_accuracy: 0.7095\n",
      "Epoch 14/20\n",
      "5453/5453 [==============================] - 244s 45ms/step - loss: 1.2138 - accuracy: 0.6621 - val_loss: 1.0121 - val_accuracy: 0.7146\n",
      "Epoch 15/20\n",
      "5453/5453 [==============================] - 235s 43ms/step - loss: 1.1897 - accuracy: 0.6672 - val_loss: 0.9909 - val_accuracy: 0.7192\n",
      "Epoch 16/20\n",
      "5453/5453 [==============================] - 238s 44ms/step - loss: 1.1675 - accuracy: 0.6722 - val_loss: 0.9702 - val_accuracy: 0.7244\n",
      "Epoch 17/20\n",
      "5453/5453 [==============================] - 237s 43ms/step - loss: 1.1475 - accuracy: 0.6761 - val_loss: 0.9516 - val_accuracy: 0.7292\n",
      "Epoch 18/20\n",
      "5453/5453 [==============================] - 202s 37ms/step - loss: 1.1275 - accuracy: 0.6811 - val_loss: 0.9350 - val_accuracy: 0.7323\n",
      "Epoch 19/20\n",
      "5453/5453 [==============================] - 105s 19ms/step - loss: 1.1099 - accuracy: 0.6852 - val_loss: 0.9188 - val_accuracy: 0.7366\n",
      "Epoch 20/20\n",
      "5453/5453 [==============================] - 94s 17ms/step - loss: 1.0925 - accuracy: 0.6890 - val_loss: 0.9040 - val_accuracy: 0.7400\n"
     ]
    }
   ],
   "source": [
    "print(model.summary())\n",
    "history = model.fit(train_images,train_labels,validation_data=(test_images, test_labels), batch_size=128, epochs=20)"
   ]
  },
  {
   "cell_type": "code",
   "execution_count": 11,
   "metadata": {
    "execution": {
     "iopub.execute_input": "2021-11-21T16:18:28.598754Z",
     "iopub.status.busy": "2021-11-21T16:18:28.598385Z",
     "iopub.status.idle": "2021-11-21T16:18:29.55883Z",
     "shell.execute_reply": "2021-11-21T16:18:29.557973Z",
     "shell.execute_reply.started": "2021-11-21T16:18:28.598717Z"
    }
   },
   "outputs": [
    {
     "name": "stdout",
     "output_type": "stream",
     "text": [
      "Accuracy: 74.00%\n"
     ]
    }
   ],
   "source": [
    "scores = model.evaluate(test_images,test_labels, verbose = 0)\n",
    "print(\"Accuracy: %.2f%%\"%(scores[1]*100))"
   ]
  },
  {
   "cell_type": "code",
   "execution_count": 12,
   "metadata": {
    "execution": {
     "iopub.execute_input": "2021-11-21T16:18:29.562245Z",
     "iopub.status.busy": "2021-11-21T16:18:29.561987Z",
     "iopub.status.idle": "2021-11-21T16:18:29.921908Z",
     "shell.execute_reply": "2021-11-21T16:18:29.921068Z",
     "shell.execute_reply.started": "2021-11-21T16:18:29.562219Z"
    }
   },
   "outputs": [
    {
     "name": "stdout",
     "output_type": "stream",
     "text": [
      "dict_keys(['loss', 'accuracy', 'val_loss', 'val_accuracy'])\n"
     ]
    },
    {
     "data": {
      "image/png": "[encoded data removed]",
      "text/plain": [
       "<Figure size 432x288 with 1 Axes>"
      ]
     },
     "metadata": {
      "needs_background": "light"
     },
     "output_type": "display_data"
    },
    {
     "data": {
      "image/png": "[encoded data removed]",
      "text/plain": [
       "<Figure size 432x288 with 1 Axes>"
      ]
     },
     "metadata": {
      "needs_background": "light"
     },
     "output_type": "display_data"
    }
   ],
   "source": [
    "print(history.history.keys())\n",
    "plt.plot(history.history['accuracy'])\n",
    "plt.plot(history.history['val_accuracy'])\n",
    "plt.title('Model Accuracy')\n",
    "plt.ylabel('Accuracy')\n",
    "plt.xlabel('Epoch')\n",
    "plt.legend(['Train', 'Test'], loc='upper left')\n",
    "plt.grid()\n",
    "plt.show()\n",
    "plt.plot(history.history['loss'])\n",
    "plt.plot(history.history['val_loss'])\n",
    "plt.title('Model loss')\n",
    "plt.ylabel('Loss')\n",
    "plt.xlabel('Epoch')\n",
    "plt.legend(['Train', 'Test'], loc='upper left')\n",
    "plt.grid()\n",
    "plt.show()"
   ]
  },
  {
   "cell_type": "code",
   "execution_count": 13,
   "metadata": {},
   "outputs": [],
   "source": [
    "from keras.models import load_model\n",
    "from keras.models import model_from_json\n",
    "\n",
    "model_json = model.to_json()\n",
    "with open(\"models/modeladadelta.json\", \"w\") as json_file:\n",
    "    json_file.write(model_json)\n",
    "    \n",
    "model.save_weights(\"models/modeladadelta.h5\")"
   ]
  }
 ],
 "metadata": {
  "kernelspec": {
   "display_name": "Python 3 (ipykernel)",
   "language": "python",
   "name": "python3"
  },
  "language_info": {
   "codemirror_mode": {
    "name": "ipython",
    "version": 3
   },
   "file_extension": ".py",
   "mimetype": "text/x-python",
   "name": "python",
   "nbconvert_exporter": "python",
   "pygments_lexer": "ipython3",
   "version": "3.9.7"
  }
 },
 "nbformat": 4,
 "nbformat_minor": 4
}
